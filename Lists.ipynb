{
 "cells": [
  {
   "cell_type": "code",
   "execution_count": 3,
   "metadata": {},
   "outputs": [
    {
     "name": "stdout",
     "output_type": "stream",
     "text": [
      "['moiz', 'pen', 'hussain']\n",
      "['pen', 'moiz', 'hussain']\n",
      "['table', 'fan']\n"
     ]
    }
   ],
   "source": [
    "\n",
    "my_list=['pen','fan','table']\n",
    "task=['moiz','hussain']\n",
    "task.insert(1,my_list.pop(0))\n",
    "print(task)\n",
    "task.sort(reverse= True)\n",
    "print(task)\n",
    "my_list.reverse()\n",
    "print(my_list)\n"
   ]
  },
  {
   "cell_type": "code",
   "execution_count": 4,
   "metadata": {},
   "outputs": [
    {
     "name": "stdout",
     "output_type": "stream",
     "text": [
      "['Abedin', 'Tahera', 'Moiz', 'Hussain', 'Ali Asghar', 'Zainab']\n",
      "['Abedin', 'Ali Asghar', 'Hussain', 'Moiz', 'Tahera', 'Zainab']\n"
     ]
    }
   ],
   "source": [
    "moizlist=[\"Abedin\",\"Tahera\",\"Hussain\",\"Ali Asghar\",\"Zainab\"]\n",
    "moizlist.insert(2,\"Moiz\")\n",
    "print(moizlist)\n",
    "a=sorted(moizlist)\n",
    "print(a)"
   ]
  },
  {
   "cell_type": "code",
   "execution_count": 5,
   "metadata": {},
   "outputs": [
    {
     "name": "stdout",
     "output_type": "stream",
     "text": [
      "['pen', 'moiz', 'hussain']\n",
      "['fan', 'table']\n",
      "['table', 'fan']\n"
     ]
    }
   ],
   "source": [
    "#if we make a new sorted variable so that we can get our older list otherwise that sorted list can't change.\n",
    "# #likewise\n",
    "new_task=task\n",
    "print(new_task)\n",
    "my_newlist=sorted(my_list)\n",
    "print(my_newlist)\n",
    "print(my_list)"
   ]
  },
  {
   "cell_type": "code",
   "execution_count": 8,
   "metadata": {},
   "outputs": [
    {
     "data": {
      "text/plain": [
       "['table', 'fan', 'Watch', 'Watch', 'Watch']"
      ]
     },
     "execution_count": 8,
     "metadata": {},
     "output_type": "execute_result"
    }
   ],
   "source": [
    "# use of append in list: if we use append the element is appended to end of the list\n",
    "my_list.append(\"Watch\")\n",
    "my_list"
   ]
  },
  {
   "cell_type": "code",
   "execution_count": 13,
   "metadata": {},
   "outputs": [
    {
     "data": {
      "text/plain": [
       "['fan', 'table', 'Watch', 'Watch', 'Watch']"
      ]
     },
     "execution_count": 13,
     "metadata": {},
     "output_type": "execute_result"
    }
   ],
   "source": [
    "#it will arranging by its lenght\n",
    "my_list.sort(key=len)\n",
    "my_list"
   ]
  },
  {
   "cell_type": "code",
   "execution_count": 16,
   "metadata": {},
   "outputs": [
    {
     "data": {
      "text/plain": [
       "6"
      ]
     },
     "execution_count": 16,
     "metadata": {},
     "output_type": "execute_result"
    }
   ],
   "source": [
    "#Binary search and maintaining a sorted list 'yeh batata hai ke humne 6 ko suppose kiya toh 6 kis position par hona chahiye'\n",
    "#and use bisect module\n",
    "import bisect \n",
    "li=[1,2,3,4,4,5,6,7,7,9]\n",
    "bisect.bisect(li,8)\n",
    "bisect.bisect(li,5)"
   ]
  },
  {
   "cell_type": "code",
   "execution_count": 7,
   "metadata": {},
   "outputs": [
    {
     "data": {
      "text/plain": [
       "{'zip': 0, 'park': 1, 'moiz': 2}"
      ]
     },
     "execution_count": 7,
     "metadata": {},
     "output_type": "execute_result"
    }
   ],
   "source": [
    "#when you have to indexing the data use 'enumerate' it sorts data and also define a location\n",
    "lis=['zip','park','moiz']\n",
    "mapp={}\n",
    "for x,y in enumerate(lis):\n",
    "    mapp[y]=x\n",
    "mapp\n",
    "    "
   ]
  },
  {
   "cell_type": "code",
   "execution_count": 8,
   "metadata": {},
   "outputs": [
    {
     "data": {
      "text/plain": [
       "{'foo': 0, 'bar': 1, 'baz': 2}"
      ]
     },
     "execution_count": 8,
     "metadata": {},
     "output_type": "execute_result"
    }
   ],
   "source": [
    "some_list = ['foo', 'bar', 'baz']\n",
    "mapping = {}\n",
    "for i, v in enumerate(some_list):\n",
    "    mapping[v] = i\n",
    "mapping"
   ]
  },
  {
   "cell_type": "code",
   "execution_count": 9,
   "metadata": {},
   "outputs": [
    {
     "data": {
      "text/plain": [
       "[2, 3, 3, 4, 4, 4, 5, 5, 6, 7, 8, 77]"
      ]
     },
     "execution_count": 9,
     "metadata": {},
     "output_type": "execute_result"
    }
   ],
   "source": [
    "#'sorted' function is sort any given sequence\n",
    "li=[3,4,4,5,4,3,2,5,6,7,77,8]\n",
    "sorted(li)"
   ]
  },
  {
   "cell_type": "code",
   "execution_count": 21,
   "metadata": {},
   "outputs": [
    {
     "data": {
      "text/plain": [
       "[' ',\n",
       " ' ',\n",
       " ' ',\n",
       " ' ',\n",
       " 'e',\n",
       " 'e',\n",
       " 'f',\n",
       " 'h',\n",
       " 'h',\n",
       " 'n',\n",
       " 'o',\n",
       " 'o',\n",
       " 'o',\n",
       " 'o',\n",
       " 'r',\n",
       " 'r',\n",
       " 's',\n",
       " 't']"
      ]
     },
     "execution_count": 21,
     "metadata": {},
     "output_type": "execute_result"
    }
   ],
   "source": [
    "st=\"horse on the roof \"\n",
    "sorted(st)"
   ]
  },
  {
   "cell_type": "code",
   "execution_count": 24,
   "metadata": {},
   "outputs": [
    {
     "data": {
      "text/plain": [
       "[('zip', 3), ('park', 4), ('moiz', 4)]"
      ]
     },
     "execution_count": 24,
     "metadata": {},
     "output_type": "execute_result"
    }
   ],
   "source": [
    "# 'zip' makes any squence in a pair of tuple\n",
    "zipped=zip(lis,li)\n",
    "list(zipped)"
   ]
  },
  {
   "cell_type": "code",
   "execution_count": 25,
   "metadata": {},
   "outputs": [
    {
     "data": {
      "text/plain": [
       "[(3, 'zip', True), (4, 'park', False)]"
      ]
     },
     "execution_count": 25,
     "metadata": {},
     "output_type": "execute_result"
    }
   ],
   "source": [
    "#zip can also takes arbiratary number of sequence and it depends on shorter sequence\n",
    "seq=[True,False]\n",
    "zipped=zip(li,lis,seq)\n",
    "list(zipped)"
   ]
  },
  {
   "cell_type": "code",
   "execution_count": 27,
   "metadata": {},
   "outputs": [],
   "source": [
    "# we ca also unzipped\n",
    "names=[('moiz','abedin'),('hussain','murtaza'),('usama','rafiq')]\n",
    "s_names,f_names=zip(*names)"
   ]
  },
  {
   "cell_type": "code",
   "execution_count": 28,
   "metadata": {},
   "outputs": [
    {
     "data": {
      "text/plain": [
       "('moiz', 'hussain', 'usama')"
      ]
     },
     "execution_count": 28,
     "metadata": {},
     "output_type": "execute_result"
    }
   ],
   "source": [
    "s_names"
   ]
  },
  {
   "cell_type": "code",
   "execution_count": 29,
   "metadata": {},
   "outputs": [
    {
     "data": {
      "text/plain": [
       "('abedin', 'murtaza', 'rafiq')"
      ]
     },
     "execution_count": 29,
     "metadata": {},
     "output_type": "execute_result"
    }
   ],
   "source": [
    "f_names"
   ]
  },
  {
   "cell_type": "code",
   "execution_count": 2,
   "metadata": {},
   "outputs": [
    {
     "data": {
      "text/plain": [
       "[9, 8, 7, 6, 5, 4, 3, 2, 1, 0]"
      ]
     },
     "execution_count": 2,
     "metadata": {},
     "output_type": "execute_result"
    }
   ],
   "source": [
    "list(reversed(range(10)))"
   ]
  }
 ],
 "metadata": {
  "kernelspec": {
   "display_name": "Python 3",
   "language": "python",
   "name": "python3"
  },
  "language_info": {
   "codemirror_mode": {
    "name": "ipython",
    "version": 3
   },
   "file_extension": ".py",
   "mimetype": "text/x-python",
   "name": "python",
   "nbconvert_exporter": "python",
   "pygments_lexer": "ipython3",
   "version": "3.6.5"
  }
 },
 "nbformat": 4,
 "nbformat_minor": 2
}
