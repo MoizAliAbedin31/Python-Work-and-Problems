{
 "cells": [
  {
   "cell_type": "code",
   "execution_count": 4,
   "metadata": {},
   "outputs": [
    {
     "name": "stdout",
     "output_type": "stream",
     "text": [
      "M ['Moiz']\n",
      "H ['Hussain', 'Havra']\n",
      "T ['Tahera']\n",
      "A ['Abedin', 'Ali']\n",
      "Z ['Zainab']\n"
     ]
    }
   ],
   "source": [
    "# The standard library itertools module has a collection of generators for many common\n",
    "# data algorithms. For example, groupby takes any sequence and a function,\n",
    "# grouping consecutive elements in the sequence by return value of the function. Here’s an example\n",
    "\n",
    "import itertools\n",
    "first_letter= lambda x:x[0]\n",
    "names=['Moiz','Hussain','Havra','Tahera',\"Abedin\",\"Ali\",\"Zainab\"]\n",
    "for letter, names in itertools.groupby(names, first_letter):\n",
    "    print(letter,list(names)) #names is a generator\n",
    "    #s=sorted(names)\n",
    "    #print(s)"
   ]
  },
  {
   "cell_type": "code",
   "execution_count": null,
   "metadata": {},
   "outputs": [],
   "source": [
    "a=int(input())\n",
    "b=int(input())\n",
    "c=int(input())\n",
    "d=int(input())\n",
    "e=b*a+c//d\n",
    "e"
   ]
  }
 ],
 "metadata": {
  "kernelspec": {
   "display_name": "Python 3",
   "language": "python",
   "name": "python3"
  },
  "language_info": {
   "codemirror_mode": {
    "name": "ipython",
    "version": 3
   },
   "file_extension": ".py",
   "mimetype": "text/x-python",
   "name": "python",
   "nbconvert_exporter": "python",
   "pygments_lexer": "ipython3",
   "version": "3.6.5"
  }
 },
 "nbformat": 4,
 "nbformat_minor": 2
}
