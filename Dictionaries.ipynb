{
 "cells": [
  {
   "cell_type": "code",
   "execution_count": 2,
   "metadata": {},
   "outputs": [
    {
     "name": "stdout",
     "output_type": "stream",
     "text": [
      "HEY MANSOORI\n"
     ]
    }
   ],
   "source": [
    "dic={'moiz': 'HEY MANSOORI','mansoori':'HEY MOIZ'}\n",
    "print(dic['moiz'])"
   ]
  },
  {
   "cell_type": "code",
   "execution_count": 10,
   "metadata": {},
   "outputs": [
    {
     "data": {
      "text/plain": [
       "{2: 4, 3: 9, 4: 16, 5: 25, 6: 36}"
      ]
     },
     "execution_count": 10,
     "metadata": {},
     "output_type": "execute_result"
    }
   ],
   "source": [
    "{x:x**2 for x in (2,3,4,5,6)}"
   ]
  },
  {
   "cell_type": "code",
   "execution_count": 8,
   "metadata": {},
   "outputs": [
    {
     "name": "stdout",
     "output_type": "stream",
     "text": [
      "{'name': 'mansoori', 'age': 53}\n",
      "{'name': 'moiz', 'age': 53}\n",
      "{'name': 'moiz', 'age': 53, 'city': 'USA'}\n",
      "{'name': 'moiz', 'city': 'USA'}\n"
     ]
    }
   ],
   "source": [
    "#how to insert item in dictionary\n",
    "dic={'name':'mansoori','age':53}\n",
    "print(dic)\n",
    "dic['name']='moiz'\n",
    "print(dic)\n",
    "dic['city']= \"USA\"\n",
    "print(dic)\n",
    "del(dic['age'])\n",
    "print(dic)\n"
   ]
  },
  {
   "cell_type": "code",
   "execution_count": 25,
   "metadata": {},
   "outputs": [
    {
     "name": "stdout",
     "output_type": "stream",
     "text": [
      "{'num1': [3, 4, 5, 6, 7], 'num2': [3, 4, 5, 6, 7], 'num3': [3, 3, 5, 7, 8]}\n"
     ]
    }
   ],
   "source": [
    "e={'num1':[3,4,5,6,7],'num2':[5,7,3,4,6],'num3':[7,8,5,3,3]}\n",
    "for i,j in e.items():\n",
    "    e[i]= sorted(j)\n",
    "print(e)"
   ]
  },
  {
   "cell_type": "code",
   "execution_count": 16,
   "metadata": {},
   "outputs": [
    {
     "name": "stdout",
     "output_type": "stream",
     "text": [
      "enter a keypouch\n",
      "flint\n",
      "twin\n",
      "gemstone\n",
      "stone\n",
      "turbole\n"
     ]
    }
   ],
   "source": [
    "inv={'gold':500,'pouch':['flint','twin','gemstone','hagger','stone','turbole'],\n",
    "    'backpack':['pen','ink','baby','james']}\n",
    "i=input(\"enter a key\")\n",
    "if i in inv.keys():\n",
    "    j=inv[i]\n",
    "    for i in  j:\n",
    "        if i!=\"hagger\":\n",
    "            print(i)\n",
    "           "
   ]
  },
  {
   "cell_type": "code",
   "execution_count": 3,
   "metadata": {},
   "outputs": [
    {
     "name": "stdout",
     "output_type": "stream",
     "text": [
      "{1: 1, 2: 4, 3: 9}\n"
     ]
    }
   ],
   "source": [
    "#problem31\n",
    "def printDict():\n",
    "    d=dict()\n",
    "    d[1]=1\n",
    "    d[2]=2**2\n",
    "    d[3]=3**2\n",
    "    print (d)\n",
    "\n",
    "    \n",
    "\n",
    "\n",
    "printDict()\n"
   ]
  },
  {
   "cell_type": "code",
   "execution_count": 18,
   "metadata": {},
   "outputs": [
    {
     "name": "stdout",
     "output_type": "stream",
     "text": [
      "dict_values(['abedin', 'murtaza'])\n"
     ]
    }
   ],
   "source": [
    "d=dict()\n",
    "d[\"moiz\"]=\"abedin\"\n",
    "d[\"hussain\"]=\"murtaza\"\n",
    "print(d.values())"
   ]
  },
  {
   "cell_type": "code",
   "execution_count": 33,
   "metadata": {},
   "outputs": [
    {
     "name": "stdout",
     "output_type": "stream",
     "text": [
      "{1: 1, 2: 4, 3: 9, 4: 16, 5: 25, 6: 36, 7: 49, 8: 64, 9: 81, 10: 100, 11: 121, 12: 144, 13: 169, 14: 196, 15: 225, 16: 256, 17: 289, 18: 324, 19: 361, 20: 400}\n",
      "dict_values([1, 4, 9, 16, 25, 36, 49, 64, 81, 100, 121, 144, 169, 196, 225, 256, 289, 324, 361, 400])\n",
      "dict_keys([1, 2, 3, 4, 5, 6, 7, 8, 9, 10, 11, 12, 13, 14, 15, 16, 17, 18, 19, 20])\n"
     ]
    }
   ],
   "source": [
    "#problem32,33and 34\n",
    "def sqdict():\n",
    "    \n",
    "    d=dict()\n",
    "    for i in range(1,21):\n",
    "        d[i]=i**2\n",
    "    print(d)\n",
    "    print(d.values())\n",
    "    ##for(a,b) in d.items():\n",
    "      ##  print(a)\n",
    "    print(d.keys())\n",
    "sqdict()\n",
    "    "
   ]
  },
  {
   "cell_type": "code",
   "execution_count": 13,
   "metadata": {},
   "outputs": [
    {
     "name": "stdout",
     "output_type": "stream",
     "text": [
      "[1, 4, 9, 16, 25, 36, 49, 64, 81, 100, 121, 144, 169, 196, 225, 256, 289, 324, 361, 400]\n",
      "[1, 4, 9, 16, 25]\n",
      "[256, 289, 324, 361, 400]\n"
     ]
    }
   ],
   "source": [
    "#problem35 and 36 and 37\n",
    "def printlist():\n",
    "    li=list()\n",
    "    for i in range(1,21):\n",
    "        li.append(i**2)\n",
    "        m=li[0:5]\n",
    "        #n=li[15:21]\n",
    "        n=li[-5:]\n",
    "    print(li)\n",
    "    print(m)\n",
    "    print(n)\n",
    "    \n",
    "printlist()"
   ]
  },
  {
   "cell_type": "code",
   "execution_count": 3,
   "metadata": {},
   "outputs": [
    {
     "name": "stdout",
     "output_type": "stream",
     "text": [
      "[1, 4, 9, 16, 25, 36, 49, 64, 81, 100, 121, 144, 169, 196, 225, 256, 289, 324, 361, 400]\n",
      "(1, 4, 9, 16, 25, 36, 49, 64, 81, 100, 121, 144, 169, 196, 225, 256, 289, 324, 361, 400)\n"
     ]
    }
   ],
   "source": [
    "def tusq():\n",
    "    li=list()\n",
    "    for i in range(1,21):\n",
    "        li.append(i**2)\n",
    "    print(li)\n",
    "    print(tuple(li))\n",
    "tusq()"
   ]
  },
  {
   "cell_type": "code",
   "execution_count": 11,
   "metadata": {},
   "outputs": [
    {
     "name": "stdout",
     "output_type": "stream",
     "text": [
      "[1, 2, 3, 4, 5, 6, 7, 8, 9, 10]\n",
      "[1, 2, 3, 4, 5]\n",
      "[6, 7, 8, 9, 10]\n"
     ]
    }
   ],
   "source": [
    "li=list()\n",
    "for i in range(1,11):\n",
    "    li.append(i)\n",
    "print(li)\n",
    "a=li[:5]\n",
    "print(a)\n",
    "b=li[5:]\n",
    "print(b)"
   ]
  },
  {
   "cell_type": "code",
   "execution_count": 20,
   "metadata": {},
   "outputs": [
    {
     "data": {
      "text/plain": [
       "{'moiz': ['moiz'],\n",
       " 'maria': ['maria'],\n",
       " 'mansoor': ['mansoor'],\n",
       " 'taher': ['taher'],\n",
       " 'taha': ['taha'],\n",
       " 'hussain': ['hussain'],\n",
       " 'hasan': ['hasan']}"
      ]
     },
     "execution_count": 20,
     "metadata": {},
     "output_type": "execute_result"
    }
   ],
   "source": [
    "words=['moiz','maria','mansoor','taher','taha','hussain','hasan']\n",
    "by_letter={}\n",
    "for word in words:\n",
    "    letter=word\n",
    "    if letter in by_letter:\n",
    "        by_letter[letter].append(word)\n",
    "    else:\n",
    "        by_letter[letter]=[word]\n",
    "by_letter        \n",
    "    \n",
    "    "
   ]
  },
  {
   "cell_type": "code",
   "execution_count": 21,
   "metadata": {},
   "outputs": [
    {
     "data": {
      "text/plain": [
       "{'m': ['moiz', 'maria', 'mansoor'],\n",
       " 't': ['taher', 'taha'],\n",
       " 'h': ['hussain', 'hasan']}"
      ]
     },
     "execution_count": 21,
     "metadata": {},
     "output_type": "execute_result"
    }
   ],
   "source": [
    "words=['moiz','maria','mansoor','taher','taha','hussain','hasan']\n",
    "by_letter={}\n",
    "for word in words:\n",
    "    letter=word[0]\n",
    "    if letter in by_letter:\n",
    "        by_letter[letter].append(word)\n",
    "    else:\n",
    "        by_letter[letter]=[word]\n",
    "by_letter        \n",
    "    \n",
    "    "
   ]
  },
  {
   "cell_type": "code",
   "execution_count": 22,
   "metadata": {},
   "outputs": [
    {
     "data": {
      "text/plain": [
       "{'h': ['hasan']}"
      ]
     },
     "execution_count": 22,
     "metadata": {},
     "output_type": "execute_result"
    }
   ],
   "source": [
    "words=['moiz','maria','mansoor','taher','taha','hussain','hasan']\n",
    "by_letter={}\n",
    "letter=word[0]\n",
    "if letter in by_letter:\n",
    "    by_letter[letter].append(word)\n",
    "else:\n",
    "    by_letter[letter]=[word]\n",
    "by_letter        \n",
    "    \n"
   ]
  },
  {
   "cell_type": "code",
   "execution_count": 23,
   "metadata": {},
   "outputs": [
    {
     "data": {
      "text/plain": [
       "{'h': ['moiz', 'maria', 'mansoor', 'taher', 'taha', 'hussain', 'hasan']}"
      ]
     },
     "execution_count": 23,
     "metadata": {},
     "output_type": "execute_result"
    }
   ],
   "source": [
    "words=['moiz','maria','mansoor','taher','taha','hussain','hasan']\n",
    "by_letter={}\n",
    "for word in words:\n",
    "    #letter=word\n",
    "    if letter in by_letter:\n",
    "        by_letter[letter].append(word)\n",
    "    else:\n",
    "        by_letter[letter]=[word]\n",
    "by_letter        \n",
    "    \n",
    "    "
   ]
  },
  {
   "cell_type": "code",
   "execution_count": 25,
   "metadata": {},
   "outputs": [
    {
     "data": {
      "text/plain": [
       "-1200935340669299474"
      ]
     },
     "execution_count": 25,
     "metadata": {},
     "output_type": "execute_result"
    }
   ],
   "source": [
    "# if we want to make a key immutable like tuples you can wether check key is hashable with hash function\n",
    "#hash takes only one argument\n",
    "hash('string')\n"
   ]
  },
  {
   "cell_type": "code",
   "execution_count": 30,
   "metadata": {},
   "outputs": [
    {
     "data": {
      "text/plain": [
       "1097636502276347782"
      ]
     },
     "execution_count": 30,
     "metadata": {},
     "output_type": "execute_result"
    }
   ],
   "source": [
    "hash((1,2,(2,3)))"
   ]
  },
  {
   "cell_type": "code",
   "execution_count": 31,
   "metadata": {},
   "outputs": [
    {
     "data": {
      "text/plain": [
       "3713081631934410656"
      ]
     },
     "execution_count": 31,
     "metadata": {},
     "output_type": "execute_result"
    }
   ],
   "source": [
    "hash((1,2))"
   ]
  },
  {
   "cell_type": "code",
   "execution_count": 32,
   "metadata": {},
   "outputs": [
    {
     "ename": "TypeError",
     "evalue": "unhashable type: 'list'",
     "output_type": "error",
     "traceback": [
      "\u001b[1;31m---------------------------------------------------------------------------\u001b[0m",
      "\u001b[1;31mTypeError\u001b[0m                                 Traceback (most recent call last)",
      "\u001b[1;32m<ipython-input-32-dd007155ffdc>\u001b[0m in \u001b[0;36m<module>\u001b[1;34m()\u001b[0m\n\u001b[1;32m----> 1\u001b[1;33m \u001b[0mhash\u001b[0m\u001b[1;33m(\u001b[0m\u001b[1;33m(\u001b[0m\u001b[1;36m1\u001b[0m\u001b[1;33m,\u001b[0m\u001b[1;36m2\u001b[0m\u001b[1;33m,\u001b[0m\u001b[1;33m[\u001b[0m\u001b[1;36m3\u001b[0m\u001b[1;33m,\u001b[0m\u001b[1;36m4\u001b[0m\u001b[1;33m]\u001b[0m\u001b[1;33m)\u001b[0m\u001b[1;33m)\u001b[0m\u001b[1;33m\u001b[0m\u001b[0m\n\u001b[0m",
      "\u001b[1;31mTypeError\u001b[0m: unhashable type: 'list'"
     ]
    }
   ],
   "source": [
    "hash((1,2,[3,4]))\n",
    "#it fails beacuse list is mutable"
   ]
  },
  {
   "cell_type": "code",
   "execution_count": 38,
   "metadata": {},
   "outputs": [
    {
     "data": {
      "text/plain": [
       "{(1, 2, 4): 8}"
      ]
     },
     "execution_count": 38,
     "metadata": {},
     "output_type": "execute_result"
    }
   ],
   "source": [
    "#if you want to make a list as a key you have to convert it into tuple so you can hashed that elements long\n",
    "d={}\n",
    "d [tuple([1,2,4])]=8\n",
    "d"
   ]
  }
 ],
 "metadata": {
  "kernelspec": {
   "display_name": "Python 3",
   "language": "python",
   "name": "python3"
  },
  "language_info": {
   "codemirror_mode": {
    "name": "ipython",
    "version": 3
   },
   "file_extension": ".py",
   "mimetype": "text/x-python",
   "name": "python",
   "nbconvert_exporter": "python",
   "pygments_lexer": "ipython3",
   "version": "3.6.5"
  }
 },
 "nbformat": 4,
 "nbformat_minor": 2
}
