{
 "cells": [
  {
   "cell_type": "code",
   "execution_count": null,
   "metadata": {},
   "outputs": [],
   "source": [
    "# WHILE LOOP"
   ]
  },
  {
   "cell_type": "code",
   "execution_count": null,
   "metadata": {},
   "outputs": [],
   "source": [
    "currentnum=-9\n",
    "while currentnum<0:\n",
    "    print(currentnum)\n",
    "    currentnum+=1"
   ]
  },
  {
   "cell_type": "code",
   "execution_count": null,
   "metadata": {},
   "outputs": [],
   "source": [
    "prompt= 'Enter city: '\n",
    "while True:\n",
    "    city=input(prompt).lower()\n",
    "    if city=='quit: ':\n",
    "        break\n",
    "    else:\n",
    "        print(\"i love to go to \"+city.title()+'!')"
   ]
  },
  {
   "cell_type": "code",
   "execution_count": null,
   "metadata": {},
   "outputs": [],
   "source": [
    "cleanest_cities=['Karachi','Lahore','Islamabad']\n",
    "user_input=\"\"\n",
    "while user_input !='q':\n",
    "    user_input=input(\"Enter a city, or q to quit: \")\n",
    "    if user_input != 'q':\n",
    "        for a_clean_city in cleanest_cities:\n",
    "            if user_input==a_clean_city:\n",
    "                print(\"Its one of the cleanest cities\")\n",
    "                break\n",
    "            else:\n",
    "                print(\"Its not cleanest cities\")\n",
    "                break"
   ]
  },
  {
   "cell_type": "code",
   "execution_count": null,
   "metadata": {},
   "outputs": [],
   "source": [
    "#FOR LOOP"
   ]
  },
  {
   "cell_type": "code",
   "execution_count": null,
   "metadata": {},
   "outputs": [],
   "source": [
    "a=[int(x) for x in range(2000,3201) if x%7==0 and x%5!=0]\n",
    "a"
   ]
  },
  {
   "cell_type": "code",
   "execution_count": null,
   "metadata": {},
   "outputs": [],
   "source": [
    "b=int(input(\"Enter a number: \"))\n",
    "d=dict()\n",
    "for x in range(1,b+1):\n",
    "    d[x]=x*x\n",
    "print(d)\n",
    "    "
   ]
  },
  {
   "cell_type": "code",
   "execution_count": null,
   "metadata": {},
   "outputs": [],
   "source": [
    "s = input(\"Enter : \")\n",
    "words = [word for word in s.split(\" \")]\n",
    "print (\" \".join(sorted(set(words))))\n"
   ]
  }
 ],
 "metadata": {
  "kernelspec": {
   "display_name": "Python 3",
   "language": "python",
   "name": "python3"
  },
  "language_info": {
   "codemirror_mode": {
    "name": "ipython",
    "version": 3
   },
   "file_extension": ".py",
   "mimetype": "text/x-python",
   "name": "python",
   "nbconvert_exporter": "python",
   "pygments_lexer": "ipython3",
   "version": "3.6.5"
  }
 },
 "nbformat": 4,
 "nbformat_minor": 2
}
