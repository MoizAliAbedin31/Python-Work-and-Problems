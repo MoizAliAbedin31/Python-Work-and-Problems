{
 "cells": [
  {
   "cell_type": "code",
   "execution_count": 5,
   "metadata": {},
   "outputs": [
    {
     "name": "stdout",
     "output_type": "stream",
     "text": [
      "Generating squares from 1 to 100\n",
      "1  4  9  16  25  36  49  64  81  100  "
     ]
    }
   ],
   "source": [
    "# A generator is a concise way to construct a new iterable object. where as normal function returns a single result at a\n",
    "# time. In generator use a yield keyword instead of return in a function\n",
    "def squares(n=10):\n",
    " print('Generating squares from 1 to {0}'.format(n ** 2))\n",
    " for i in range(1, n + 1):\n",
    "        yield i**2\n",
    "gen=squares()\n",
    "# It is not until you request elements from the generator that it begins executing its code\n",
    "for x in gen:\n",
    "    print(x, end=\"  \")"
   ]
  },
  {
   "cell_type": "code",
   "execution_count": null,
   "metadata": {},
   "outputs": [],
   "source": [
    "a=int(input())\n",
    "b=int(input())\n",
    "c=int(input())\n",
    "d=int(input())\n",
    "e=b/a+c//d\n",
    "e"
   ]
  }
 ],
 "metadata": {
  "kernelspec": {
   "display_name": "Python 3",
   "language": "python",
   "name": "python3"
  },
  "language_info": {
   "codemirror_mode": {
    "name": "ipython",
    "version": 3
   },
   "file_extension": ".py",
   "mimetype": "text/x-python",
   "name": "python",
   "nbconvert_exporter": "python",
   "pygments_lexer": "ipython3",
   "version": "3.6.5"
  }
 },
 "nbformat": 4,
 "nbformat_minor": 2
}
